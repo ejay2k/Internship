{
 "cells": [
  {
   "cell_type": "code",
   "execution_count": 1,
   "metadata": {},
   "outputs": [
    {
     "name": "stdout",
     "output_type": "stream",
     "text": [
      "Collecting voila\n",
      "  Downloading https://files.pythonhosted.org/packages/5d/35/cf7d765edd2b48838ac69ff0435cec594bdd8a44329fb21a86a6d7e4c584/voila-0.2.10-py3-none-any.whl (1.6MB)\n",
      "Collecting jupyter-client<7,>=6.1.3 (from voila)\n",
      "  Downloading https://files.pythonhosted.org/packages/88/4e/50fcf8b38d9c08d5b4839c1650e595f6bfa4fc9b419e2b800db8f14ee532/jupyter_client-6.2.0-py3-none-any.whl (112kB)\n",
      "Collecting nbconvert<7,>=6.0.0 (from voila)\n",
      "  Downloading https://files.pythonhosted.org/packages/13/2f/acbe7006548f3914456ee47f97a2033b1b2f3daf921b12ac94105d87c163/nbconvert-6.0.7-py3-none-any.whl (552kB)\n",
      "Collecting jupyter-server<2.0.0,>=0.3.0 (from voila)\n",
      "  Downloading https://files.pythonhosted.org/packages/b7/58/8a69c6badaf74daf9aaf690a9839004ac3b78633189d0d0feab11669b751/jupyter_server-1.8.0-py3-none-any.whl (382kB)\n",
      "Collecting nbclient<0.6,>=0.4.0 (from voila)\n",
      "  Downloading https://files.pythonhosted.org/packages/22/a6/f3a01a5c1a0e72d1d064f33d4cd9c3a782010f48f48f47f256d0b438994a/nbclient-0.5.3-py3-none-any.whl (82kB)\n",
      "Collecting jupyter-core>=4.6.0 (from jupyter-client<7,>=6.1.3->voila)\n",
      "  Downloading https://files.pythonhosted.org/packages/53/40/5af36bffa0af3ac71d3a6fc6709de10e4f6ff7c01745b8bc4715372189c9/jupyter_core-4.7.1-py3-none-any.whl (82kB)\n",
      "Requirement already satisfied: python-dateutil>=2.1 in c:\\users\\erin edwards\\anaconda3\\lib\\site-packages (from jupyter-client<7,>=6.1.3->voila) (2.8.0)\n",
      "Requirement already satisfied: pyzmq>=13 in c:\\users\\erin edwards\\anaconda3\\lib\\site-packages (from jupyter-client<7,>=6.1.3->voila) (18.0.0)\n",
      "Requirement already satisfied: traitlets in c:\\users\\erin edwards\\anaconda3\\lib\\site-packages (from jupyter-client<7,>=6.1.3->voila) (4.3.2)\n",
      "Collecting nest-asyncio>=1.5 (from jupyter-client<7,>=6.1.3->voila)\n",
      "  Downloading https://files.pythonhosted.org/packages/52/e2/9b37da54e6e9094d2f558ae643d1954a0fa8215dfee4fa261f31c5439796/nest_asyncio-1.5.1-py3-none-any.whl\n",
      "Requirement already satisfied: tornado>=4.1 in c:\\users\\erin edwards\\anaconda3\\lib\\site-packages (from jupyter-client<7,>=6.1.3->voila) (6.0.3)\n",
      "Requirement already satisfied: jinja2>=2.4 in c:\\users\\erin edwards\\anaconda3\\lib\\site-packages (from nbconvert<7,>=6.0.0->voila) (2.10.1)\n",
      "Requirement already satisfied: entrypoints>=0.2.2 in c:\\users\\erin edwards\\anaconda3\\lib\\site-packages (from nbconvert<7,>=6.0.0->voila) (0.3)\n",
      "Requirement already satisfied: testpath in c:\\users\\erin edwards\\anaconda3\\lib\\site-packages (from nbconvert<7,>=6.0.0->voila) (0.4.2)\n",
      "Requirement already satisfied: mistune<2,>=0.8.1 in c:\\users\\erin edwards\\anaconda3\\lib\\site-packages (from nbconvert<7,>=6.0.0->voila) (0.8.4)\n",
      "Requirement already satisfied: nbformat>=4.4 in c:\\users\\erin edwards\\anaconda3\\lib\\site-packages (from nbconvert<7,>=6.0.0->voila) (4.4.0)\n",
      "Requirement already satisfied: pandocfilters>=1.4.1 in c:\\users\\erin edwards\\anaconda3\\lib\\site-packages (from nbconvert<7,>=6.0.0->voila) (1.4.2)\n",
      "Requirement already satisfied: bleach in c:\\users\\erin edwards\\anaconda3\\lib\\site-packages (from nbconvert<7,>=6.0.0->voila) (3.1.0)\n",
      "Collecting jupyterlab-pygments (from nbconvert<7,>=6.0.0->voila)\n",
      "  Downloading https://files.pythonhosted.org/packages/a8/6f/c34288766797193b512c6508f5994b830fb06134fdc4ca8214daba0aa443/jupyterlab_pygments-0.1.2-py2.py3-none-any.whl\n",
      "Requirement already satisfied: defusedxml in c:\\users\\erin edwards\\anaconda3\\lib\\site-packages (from nbconvert<7,>=6.0.0->voila) (0.6.0)\n",
      "Requirement already satisfied: pygments>=2.4.1 in c:\\users\\erin edwards\\anaconda3\\lib\\site-packages (from nbconvert<7,>=6.0.0->voila) (2.4.2)\n",
      "Collecting argon2-cffi (from jupyter-server<2.0.0,>=0.3.0->voila)\n",
      "  Downloading https://files.pythonhosted.org/packages/a0/c6/420e3cfb7f162eb51dcfdb1c2d80e5baa522c743487937c17ae0d760dd19/argon2_cffi-20.1.0-cp37-cp37m-win_amd64.whl (42kB)\n",
      "Requirement already satisfied: prometheus-client in c:\\users\\erin edwards\\anaconda3\\lib\\site-packages (from jupyter-server<2.0.0,>=0.3.0->voila) (0.7.1)\n",
      "Collecting anyio<4,>=3.1.0 (from jupyter-server<2.0.0,>=0.3.0->voila)\n",
      "  Downloading https://files.pythonhosted.org/packages/72/47/0c30d51c30d23eecead360e8624ad3972ebd8f9933265a91fca1372d37cf/anyio-3.1.0-py3-none-any.whl (74kB)\n",
      "Requirement already satisfied: ipython-genutils in c:\\users\\erin edwards\\anaconda3\\lib\\site-packages (from jupyter-server<2.0.0,>=0.3.0->voila) (0.2.0)\n",
      "Requirement already satisfied: Send2Trash in c:\\users\\erin edwards\\anaconda3\\lib\\site-packages (from jupyter-server<2.0.0,>=0.3.0->voila) (1.5.0)\n",
      "Collecting websocket-client (from jupyter-server<2.0.0,>=0.3.0->voila)\n",
      "  Downloading https://files.pythonhosted.org/packages/85/ee/7aa724dc2dbed9b028f463eada5482770c13b7381a0c79457d12b3b62de2/websocket_client-1.0.1-py2.py3-none-any.whl (68kB)\n",
      "Collecting terminado>=0.8.3 (from jupyter-server<2.0.0,>=0.3.0->voila)\n",
      "  Downloading https://files.pythonhosted.org/packages/07/ea/0b2b2a16748428e79715c763bbcb1ae9820e7bb8e0136cb3406fd311573e/terminado-0.10.0-py3-none-any.whl\n",
      "Collecting async-generator (from nbclient<0.6,>=0.4.0->voila)\n",
      "  Downloading https://files.pythonhosted.org/packages/71/52/39d20e03abd0ac9159c162ec24b93fbcaa111e8400308f2465432495ca2b/async_generator-1.10-py3-none-any.whl\n",
      "Requirement already satisfied: pywin32>=1.0; sys_platform == \"win32\" in c:\\users\\erin edwards\\anaconda3\\lib\\site-packages (from jupyter-core>=4.6.0->jupyter-client<7,>=6.1.3->voila) (223)\n",
      "Requirement already satisfied: six>=1.5 in c:\\users\\erin edwards\\anaconda3\\lib\\site-packages (from python-dateutil>=2.1->jupyter-client<7,>=6.1.3->voila) (1.12.0)\n",
      "Requirement already satisfied: decorator in c:\\users\\erin edwards\\anaconda3\\lib\\site-packages (from traitlets->jupyter-client<7,>=6.1.3->voila) (4.4.0)\n",
      "Requirement already satisfied: MarkupSafe>=0.23 in c:\\users\\erin edwards\\anaconda3\\lib\\site-packages (from jinja2>=2.4->nbconvert<7,>=6.0.0->voila) (1.1.1)\n",
      "Requirement already satisfied: jsonschema!=2.5.0,>=2.4 in c:\\users\\erin edwards\\anaconda3\\lib\\site-packages (from nbformat>=4.4->nbconvert<7,>=6.0.0->voila) (3.0.1)\n",
      "Requirement already satisfied: webencodings in c:\\users\\erin edwards\\anaconda3\\lib\\site-packages (from bleach->nbconvert<7,>=6.0.0->voila) (0.5.1)\n",
      "Requirement already satisfied: cffi>=1.0.0 in c:\\users\\erin edwards\\anaconda3\\lib\\site-packages (from argon2-cffi->jupyter-server<2.0.0,>=0.3.0->voila) (1.12.3)\n",
      "Collecting sniffio>=1.1 (from anyio<4,>=3.1.0->jupyter-server<2.0.0,>=0.3.0->voila)\n",
      "  Downloading https://files.pythonhosted.org/packages/52/b0/7b2e028b63d092804b6794595871f936aafa5e9322dcaaad50ebf67445b3/sniffio-1.2.0-py3-none-any.whl\n",
      "Requirement already satisfied: idna>=2.8 in c:\\users\\erin edwards\\anaconda3\\lib\\site-packages (from anyio<4,>=3.1.0->jupyter-server<2.0.0,>=0.3.0->voila) (2.8)\n",
      "Requirement already satisfied: typing-extensions; python_version < \"3.8\" in c:\\users\\erin edwards\\anaconda3\\lib\\site-packages (from anyio<4,>=3.1.0->jupyter-server<2.0.0,>=0.3.0->voila) (3.10.0.0)\n",
      "Collecting pywinpty>=1.1.0; os_name == \"nt\" (from terminado>=0.8.3->jupyter-server<2.0.0,>=0.3.0->voila)\n",
      "  Downloading https://files.pythonhosted.org/packages/c4/5a/8330aadebc0459df378dcca5111337a493106166e4e850c090b44f76a575/pywinpty-1.1.1-cp37-none-win_amd64.whl (1.4MB)\n",
      "Requirement already satisfied: attrs>=17.4.0 in c:\\users\\erin edwards\\anaconda3\\lib\\site-packages (from jsonschema!=2.5.0,>=2.4->nbformat>=4.4->nbconvert<7,>=6.0.0->voila) (19.1.0)\n",
      "Requirement already satisfied: pyrsistent>=0.14.0 in c:\\users\\erin edwards\\anaconda3\\lib\\site-packages (from jsonschema!=2.5.0,>=2.4->nbformat>=4.4->nbconvert<7,>=6.0.0->voila) (0.14.11)\n",
      "Requirement already satisfied: setuptools in c:\\users\\erin edwards\\anaconda3\\lib\\site-packages (from jsonschema!=2.5.0,>=2.4->nbformat>=4.4->nbconvert<7,>=6.0.0->voila) (41.0.1)\n",
      "Requirement already satisfied: pycparser in c:\\users\\erin edwards\\anaconda3\\lib\\site-packages (from cffi>=1.0.0->argon2-cffi->jupyter-server<2.0.0,>=0.3.0->voila) (2.19)\n",
      "Installing collected packages: jupyter-core, nest-asyncio, jupyter-client, async-generator, nbclient, jupyterlab-pygments, nbconvert, argon2-cffi, sniffio, anyio, websocket-client, pywinpty, terminado, jupyter-server, voila\n",
      "  Found existing installation: jupyter-core 4.5.0\n",
      "    Uninstalling jupyter-core-4.5.0:\n",
      "      Successfully uninstalled jupyter-core-4.5.0\n",
      "  Found existing installation: jupyter-client 5.3.1\n",
      "    Uninstalling jupyter-client-5.3.1:\n",
      "      Successfully uninstalled jupyter-client-5.3.1\n",
      "  Found existing installation: nbconvert 5.5.0\n",
      "    Uninstalling nbconvert-5.5.0:\n",
      "      Successfully uninstalled nbconvert-5.5.0\n",
      "  Found existing installation: pywinpty 0.5.5\n",
      "    Uninstalling pywinpty-0.5.5:\n",
      "      Successfully uninstalled pywinpty-0.5.5\n"
     ]
    },
    {
     "name": "stderr",
     "output_type": "stream",
     "text": [
      "ERROR: spyder 3.3.6 requires pyqt5<5.13; python_version >= \"3\", which is not installed.\n",
      "ERROR: spyder 3.3.6 requires pyqtwebengine<5.13; python_version >= \"3\", which is not installed.\n",
      "ERROR: nbdev 1.1.14 has requirement jupyter-client<=6.1.12, but you'll have jupyter-client 6.2.0 which is incompatible.\n",
      "ERROR: nbdev 1.1.14 has requirement nbconvert<6, but you'll have nbconvert 6.0.7 which is incompatible.\n",
      "ERROR: nbclient 0.5.3 has requirement nbformat>=5.0, but you'll have nbformat 4.4.0 which is incompatible.\n",
      "ERROR: jupyter-server 1.8.0 has requirement tornado>=6.1.0, but you'll have tornado 6.0.3 which is incompatible.\n",
      "ERROR: Could not install packages due to an EnvironmentError: [WinError 5] Access is denied: 'c:\\\\users\\\\erin edwards\\\\anaconda3\\\\lib\\\\site-packages\\\\~inpty\\\\cywinpty.cp37-win_amd64.pyd'\n",
      "Consider using the `--user` option or check the permissions.\n",
      "\n",
      "Enabling: voila\n",
      "- Writing config: C:\\Users\\Erin Edwards\\Anaconda3\\etc\\jupyter\n",
      "    - Validating...\n",
      "Error loading server extension voila\n",
      "      X is voila importable?\n"
     ]
    }
   ],
   "source": [
    "!pip install voila\n",
    "!jupyter serverextension enable --sys-prefix voila"
   ]
  },
  {
   "cell_type": "code",
   "execution_count": null,
   "metadata": {},
   "outputs": [],
   "source": []
  }
 ],
 "metadata": {
  "kernelspec": {
   "display_name": "Python 3",
   "language": "python",
   "name": "python3"
  },
  "language_info": {
   "codemirror_mode": {
    "name": "ipython",
    "version": 3
   },
   "file_extension": ".py",
   "mimetype": "text/x-python",
   "name": "python",
   "nbconvert_exporter": "python",
   "pygments_lexer": "ipython3",
   "version": "3.7.3"
  }
 },
 "nbformat": 4,
 "nbformat_minor": 2
}
